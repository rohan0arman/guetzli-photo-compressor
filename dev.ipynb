{
 "cells": [
  {
   "cell_type": "code",
   "execution_count": 8,
   "metadata": {},
   "outputs": [],
   "source": [
    "import os\n",
    "from PIL import Image\n",
    "from pathlib import Path\n",
    "import pyguetzli as pg"
   ]
  },
  {
   "cell_type": "code",
   "execution_count": 11,
   "metadata": {},
   "outputs": [
    {
     "name": "stdout",
     "output_type": "stream",
     "text": [
      "[1.8412933349609375, 'mb']\n"
     ]
    }
   ],
   "source": [
    "def show_file_size(size_in_bytes , format='auto'):\n",
    "    unit = {'gb' : 1024 ** 3,\n",
    "            'mb' : 1024 ** 2,\n",
    "            'kb' : 1024 ** 1,\n",
    "            'b' : 1024 ** 0}\n",
    "    \n",
    "    for key , val in unit.items():\n",
    "        cal_val = size_in_bytes / val\n",
    "        if(cal_val >= 1):\n",
    "            return [cal_val , key]\n",
    "\n",
    "print(show_file_size(1930736))"
   ]
  },
  {
   "cell_type": "code",
   "execution_count": 23,
   "metadata": {},
   "outputs": [],
   "source": [
    "def compress_jpg(src_file_path , target_file_path):\n",
    "    optimized_bytes = None\n",
    "    try:\n",
    "        with open(src_file_path,'rb') as image:\n",
    "            optimized_bytes = pg.process_jpeg_bytes(image.read())\n",
    "\n",
    "        with open(target_file_path,'wb') as image:\n",
    "            image.write(optimized_bytes)\n",
    "            return True\n",
    "    except ValueError as e:\n",
    "        print(f'[Error] : {e}')\n",
    "        return False"
   ]
  },
  {
   "cell_type": "code",
   "execution_count": 24,
   "metadata": {},
   "outputs": [],
   "source": [
    "def compress_png(src_file_path , target_file_path):\n",
    "    optimized_bytes = None\n",
    "    try:\n",
    "        with Image.open(src_file_path) as image:\n",
    "            optimized_bytes = pg.process_pil_image(image)\n",
    "        with open(target_file_path , 'wb') as image:\n",
    "            image.write(optimized_bytes)\n",
    "            \n",
    "    except ValueError as e:\n",
    "        print(f'[Error] : {e}')\n",
    "        return False"
   ]
  },
  {
   "cell_type": "code",
   "execution_count": 25,
   "metadata": {},
   "outputs": [],
   "source": [
    "def batch_compress(directory , extra=''):\n",
    "    if not os.path.isdir(directory):\n",
    "        print(f'[Error] : `{directory}` is not a directory')\n",
    "        return\n",
    "\n",
    "    files = os.listdir(directory)\n",
    "    file_counter = 1\n",
    "    total_file_count = len(files)\n",
    "    total_file_size = 0\n",
    "    total_converted_file_size = 0\n",
    "    \n",
    "    for file in os.listdir(directory):\n",
    "        src_file_path = os.path.join(directory,file)\n",
    "        file_name , file_extention = file.split('.')\n",
    "        file_extention = '.' + file_extention\n",
    "        target_file_path = os.path.join(directory,file_name+extra+'.jpeg')\n",
    "\n",
    "        print(f'[{file_counter} / {total_file_count}] File : {file_name+file_extention}')\n",
    "        if file_extention in ['.jpg','.jpeg']:\n",
    "            print('Compressing...')\n",
    "            src_file_size = show_file_size(os.stat(src_file_path).st_size)\n",
    "            if compress_jpg(src_file_path , target_file_path) :\n",
    "                target_file_size = show_file_size(os.stat(target_file_path).st_size)\n",
    "                total_file_size += src_file_size[0]\n",
    "                total_converted_file_size += target_file_size[0]\n",
    "                print(f'Done [{round(src_file_size[0],2)}{src_file_size[1].upper()} -> {round(target_file_size[0],2)}{target_file_size[1].upper()}]')\n",
    "        elif file_extention == '.png':\n",
    "            print('Compressing...')\n",
    "            src_file_size = show_file_size(os.stat(src_file_path).st_size)\n",
    "            if compress_png(src_file_path , target_file_path) :\n",
    "                target_file_size = show_file_size(os.stat(target_file_path).st_size)\n",
    "                total_file_size += src_file_size[0]\n",
    "                total_converted_file_size += target_file_size[0]\n",
    "                print(f'Done [{round(src_file_size[0],2)}{src_file_size[1].upper()} -> {round(target_file_size[0],2)}{target_file_size[1].upper()}]')\n",
    "        else:\n",
    "            print('File is not a valid image')\n",
    "\n",
    "        file_counter += 1"
   ]
  },
  {
   "cell_type": "code",
   "execution_count": 26,
   "metadata": {},
   "outputs": [
    {
     "name": "stdout",
     "output_type": "stream",
     "text": [
      "[1 / 4] File : dev.ipynb\n",
      "File is not a valid image\n",
      "[2 / 4] File : main.py\n",
      "File is not a valid image\n",
      "[3 / 4] File : test_image.jpg\n",
      "Compressing...\n"
     ]
    },
    {
     "name": "stdout",
     "output_type": "stream",
     "text": [
      "Done [318.83KB -> 92.28KB]\n",
      "[4 / 4] File : test_image.png\n",
      "Compressing...\n"
     ]
    }
   ],
   "source": [
    "#compress_jpg(Path(r'C:\\Users\\Rohan\\Coding\\Automation\\Gutezli Photo Compressor\\test_image.jpg') , Path(r'C:\\Users\\Rohan\\Coding\\Automation\\Gutezli Photo Compressor\\test_image_compressed.jpg'))\n",
    "batch_compress(Path(r'C:\\Users\\Rohan\\Coding\\Automation\\Gutezli Photo Compressor') , '_compressed')"
   ]
  },
  {
   "cell_type": "code",
   "execution_count": 3,
   "metadata": {},
   "outputs": [
    {
     "name": "stdout",
     "output_type": "stream",
     "text": [
      "os.stat_result(st_mode=33206, st_ino=11258999068633667, st_dev=5808752741427034020, st_nlink=1, st_uid=0, st_gid=0, st_size=326477, st_atime=1705468255, st_mtime=1695018782, st_ctime=1705467594)\n",
      "os.stat_result(st_mode=33206, st_ino=5910974511349357, st_dev=5808752741427034020, st_nlink=1, st_uid=0, st_gid=0, st_size=94490, st_atime=1705468229, st_mtime=1705467706, st_ctime=1705467706)\n"
     ]
    }
   ],
   "source": [
    "print(os.stat(Path(r'C:\\Users\\Rohan\\Coding\\Automation\\Gutezli Photo Compressor\\test_image.jpg')))\n",
    "print(os.stat(Path(r'C:\\Users\\Rohan\\Coding\\Automation\\Gutezli Photo Compressor\\test_image_compressed.jpg')))"
   ]
  },
  {
   "cell_type": "code",
   "execution_count": 9,
   "metadata": {},
   "outputs": [
    {
     "name": "stdout",
     "output_type": "stream",
     "text": [
      "Image Mode: RGB\n",
      "Image Size: 608 x 739 pixels\n",
      "Image Format: JPEG\n",
      "No Exif information available.\n"
     ]
    }
   ],
   "source": [
    "def get_image_info(image_path):\n",
    "    try:\n",
    "        with Image.open(image_path) as image:\n",
    "            # Get basic image information\n",
    "            mode = image.mode\n",
    "            size = image.size\n",
    "            format = image.format\n",
    "\n",
    "            # Get detailed image information from Exif metadata\n",
    "            exif_info = image._getexif()\n",
    "\n",
    "            return mode, size, format, exif_info\n",
    "\n",
    "    except Exception as e:\n",
    "        print(f'Error while processing image: {e}')\n",
    "        return None\n",
    "\n",
    "# Example usage\n",
    "image_path = Path(r'C:\\Users\\Rohan\\Coding\\Automation\\Gutezli Photo Compressor\\test_image.jpg')\n",
    "image_info = get_image_info(image_path)\n",
    "\n",
    "if image_info:\n",
    "    mode, size, format, exif_info = image_info\n",
    "\n",
    "    print(f\"Image Mode: {mode}\")\n",
    "    print(f\"Image Size: {size[0]} x {size[1]} pixels\")\n",
    "    print(f\"Image Format: {format}\")\n",
    "\n",
    "    if exif_info:\n",
    "        for tag, value in exif_info.items():\n",
    "            tag_name = ExifTags.TAGS.get(tag, tag)\n",
    "            print(f\"{tag_name}: {value}\")\n",
    "    else:\n",
    "        print(\"No Exif information available.\")\n",
    "else:\n",
    "    print(\"Unable to retrieve image information.\")\n"
   ]
  },
  {
   "cell_type": "code",
   "execution_count": null,
   "metadata": {},
   "outputs": [],
   "source": []
  }
 ],
 "metadata": {
  "kernelspec": {
   "display_name": "Python 3",
   "language": "python",
   "name": "python3"
  },
  "language_info": {
   "codemirror_mode": {
    "name": "ipython",
    "version": 3
   },
   "file_extension": ".py",
   "mimetype": "text/x-python",
   "name": "python",
   "nbconvert_exporter": "python",
   "pygments_lexer": "ipython3",
   "version": "3.12.1"
  }
 },
 "nbformat": 4,
 "nbformat_minor": 2
}
